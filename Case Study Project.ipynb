{
 "cells": [
  {
   "cell_type": "markdown",
   "id": "9a1096c8",
   "metadata": {},
   "source": [
    "# DATA SET INFORMATION #\n",
    "\n",
    "Data kunjungan website Kuncie yang ditarik selama periode 1 Februari 2023-31 Maret 2023.\n",
    "Data yang disediakan merupakan data event tracker “page impression” yang dikirim ketika user mengunjungi website Kuncie.\n",
    "Dalam data tersebut terdapat informasi mengenai waktu, halaman yang dikunjungi dan referrer (dari mana user datang sebelum mengunjungi halaman Kuncie).\n",
    "\n",
    "Data yang disediakan merupakan data mentah yang mungkin masih memerlukan proses cleaning dan transformasi sesuai kebutuhan analisa yang dilakukan.\n"
   ]
  },
  {
   "cell_type": "markdown",
   "id": "a60d1d23",
   "metadata": {},
   "source": [
    "# Import Library#"
   ]
  },
  {
   "cell_type": "code",
   "execution_count": null,
   "id": "e8640d47",
   "metadata": {},
   "outputs": [],
   "source": [
    "import pandas as pd\n",
    "import numpy as np\n",
    "import matplotlib.pyplot as plt\n",
    "import datetime\n",
    "%matplotlib inline"
   ]
  },
  {
   "cell_type": "markdown",
   "id": "51197ae6",
   "metadata": {},
   "source": [
    "# Load Data#"
   ]
  },
  {
   "cell_type": "code",
   "execution_count": 404,
   "id": "7188063b",
   "metadata": {},
   "outputs": [
    {
     "data": {
      "text/html": [
       "<div>\n",
       "<style scoped>\n",
       "    .dataframe tbody tr th:only-of-type {\n",
       "        vertical-align: middle;\n",
       "    }\n",
       "\n",
       "    .dataframe tbody tr th {\n",
       "        vertical-align: top;\n",
       "    }\n",
       "\n",
       "    .dataframe thead th {\n",
       "        text-align: right;\n",
       "    }\n",
       "</style>\n",
       "<table border=\"1\" class=\"dataframe\">\n",
       "  <thead>\n",
       "    <tr style=\"text-align: right;\">\n",
       "      <th></th>\n",
       "      <th>id</th>\n",
       "      <th>page_referrer</th>\n",
       "      <th>page_url</th>\n",
       "      <th>kuncie_user_id</th>\n",
       "      <th>timestamp</th>\n",
       "      <th>visitor_id;;;;</th>\n",
       "    </tr>\n",
       "  </thead>\n",
       "  <tbody>\n",
       "    <tr>\n",
       "      <th>0</th>\n",
       "      <td>2c50a3a5-5385-4c54-9682-04b57f0d0458</td>\n",
       "      <td>/premium/login/</td>\n",
       "      <td>https://www.kuncie.com/premium/login</td>\n",
       "      <td>95</td>\n",
       "      <td>2022-09-19 07:45:23.977000 UTC</td>\n",
       "      <td>2262;;;;</td>\n",
       "    </tr>\n",
       "    <tr>\n",
       "      <th>1</th>\n",
       "      <td>22132c6c-169d-46e9-a2d3-d0ecbee9a022</td>\n",
       "      <td>/premium/login/</td>\n",
       "      <td>https://www.kuncie.com/premium/login</td>\n",
       "      <td>95</td>\n",
       "      <td>2022-09-19 04:48:52.648000 UTC</td>\n",
       "      <td>539;;;;</td>\n",
       "    </tr>\n",
       "    <tr>\n",
       "      <th>2</th>\n",
       "      <td>3c769ab9-239a-4e27-94ba-1d3b50dea61a</td>\n",
       "      <td>/premium/login/</td>\n",
       "      <td>https://www.kuncie.com/premium/login</td>\n",
       "      <td>95</td>\n",
       "      <td>2022-09-19 10:30:55.521000 UTC</td>\n",
       "      <td>9451;;;;</td>\n",
       "    </tr>\n",
       "    <tr>\n",
       "      <th>3</th>\n",
       "      <td>71ec45a1-85ac-4300-b7db-de9ecedd4e26</td>\n",
       "      <td>https://www.kuncie.com/premium/my-account/</td>\n",
       "      <td>https://www.kuncie.com/premium/my-account/edit...</td>\n",
       "      <td>940</td>\n",
       "      <td>2022-07-24 22:45:27.757000 UTC</td>\n",
       "      <td>4199;;;;</td>\n",
       "    </tr>\n",
       "    <tr>\n",
       "      <th>4</th>\n",
       "      <td>cc2d26e9-675b-4f7b-9152-b4762c990d22</td>\n",
       "      <td>https://www.kuncie.com/premium/my-account/</td>\n",
       "      <td>https://www.kuncie.com/premium/premium/kelas/k...</td>\n",
       "      <td>NaN</td>\n",
       "      <td>2022-11-11 04:14:20.635000 UTC</td>\n",
       "      <td>5318;;;;</td>\n",
       "    </tr>\n",
       "  </tbody>\n",
       "</table>\n",
       "</div>"
      ],
      "text/plain": [
       "                                     id  \\\n",
       "0  2c50a3a5-5385-4c54-9682-04b57f0d0458   \n",
       "1  22132c6c-169d-46e9-a2d3-d0ecbee9a022   \n",
       "2  3c769ab9-239a-4e27-94ba-1d3b50dea61a   \n",
       "3  71ec45a1-85ac-4300-b7db-de9ecedd4e26   \n",
       "4  cc2d26e9-675b-4f7b-9152-b4762c990d22   \n",
       "\n",
       "                                page_referrer  \\\n",
       "0                             /premium/login/   \n",
       "1                             /premium/login/   \n",
       "2                             /premium/login/   \n",
       "3  https://www.kuncie.com/premium/my-account/   \n",
       "4  https://www.kuncie.com/premium/my-account/   \n",
       "\n",
       "                                            page_url kuncie_user_id  \\\n",
       "0               https://www.kuncie.com/premium/login             95   \n",
       "1               https://www.kuncie.com/premium/login             95   \n",
       "2               https://www.kuncie.com/premium/login             95   \n",
       "3  https://www.kuncie.com/premium/my-account/edit...            940   \n",
       "4  https://www.kuncie.com/premium/premium/kelas/k...            NaN   \n",
       "\n",
       "                        timestamp visitor_id;;;;  \n",
       "0  2022-09-19 07:45:23.977000 UTC       2262;;;;  \n",
       "1  2022-09-19 04:48:52.648000 UTC        539;;;;  \n",
       "2  2022-09-19 10:30:55.521000 UTC       9451;;;;  \n",
       "3  2022-07-24 22:45:27.757000 UTC       4199;;;;  \n",
       "4  2022-11-11 04:14:20.635000 UTC       5318;;;;  "
      ]
     },
     "execution_count": 404,
     "metadata": {},
     "output_type": "execute_result"
    }
   ],
   "source": [
    "df = pd.read_csv('web_page_impression.csv', on_bad_lines = 'skip')\n",
    "df.head ()"
   ]
  },
  {
   "cell_type": "code",
   "execution_count": 405,
   "id": "2c7cab8a",
   "metadata": {},
   "outputs": [
    {
     "data": {
      "text/html": [
       "<div>\n",
       "<style scoped>\n",
       "    .dataframe tbody tr th:only-of-type {\n",
       "        vertical-align: middle;\n",
       "    }\n",
       "\n",
       "    .dataframe tbody tr th {\n",
       "        vertical-align: top;\n",
       "    }\n",
       "\n",
       "    .dataframe thead th {\n",
       "        text-align: right;\n",
       "    }\n",
       "</style>\n",
       "<table border=\"1\" class=\"dataframe\">\n",
       "  <thead>\n",
       "    <tr style=\"text-align: right;\">\n",
       "      <th></th>\n",
       "      <th>id</th>\n",
       "      <th>page_referrer</th>\n",
       "      <th>page_url</th>\n",
       "      <th>kuncie_user_id</th>\n",
       "      <th>date</th>\n",
       "      <th>visitor_id;;;;</th>\n",
       "    </tr>\n",
       "  </thead>\n",
       "  <tbody>\n",
       "    <tr>\n",
       "      <th>0</th>\n",
       "      <td>2c50a3a5-5385-4c54-9682-04b57f0d0458</td>\n",
       "      <td>/premium/login/</td>\n",
       "      <td>https://www.kuncie.com/premium/login</td>\n",
       "      <td>95</td>\n",
       "      <td>2022-09-19 07:45:23.977000 UTC</td>\n",
       "      <td>2262;;;;</td>\n",
       "    </tr>\n",
       "    <tr>\n",
       "      <th>1</th>\n",
       "      <td>22132c6c-169d-46e9-a2d3-d0ecbee9a022</td>\n",
       "      <td>/premium/login/</td>\n",
       "      <td>https://www.kuncie.com/premium/login</td>\n",
       "      <td>95</td>\n",
       "      <td>2022-09-19 04:48:52.648000 UTC</td>\n",
       "      <td>539;;;;</td>\n",
       "    </tr>\n",
       "    <tr>\n",
       "      <th>2</th>\n",
       "      <td>3c769ab9-239a-4e27-94ba-1d3b50dea61a</td>\n",
       "      <td>/premium/login/</td>\n",
       "      <td>https://www.kuncie.com/premium/login</td>\n",
       "      <td>95</td>\n",
       "      <td>2022-09-19 10:30:55.521000 UTC</td>\n",
       "      <td>9451;;;;</td>\n",
       "    </tr>\n",
       "    <tr>\n",
       "      <th>3</th>\n",
       "      <td>71ec45a1-85ac-4300-b7db-de9ecedd4e26</td>\n",
       "      <td>https://www.kuncie.com/premium/my-account/</td>\n",
       "      <td>https://www.kuncie.com/premium/my-account/edit...</td>\n",
       "      <td>940</td>\n",
       "      <td>2022-07-24 22:45:27.757000 UTC</td>\n",
       "      <td>4199;;;;</td>\n",
       "    </tr>\n",
       "    <tr>\n",
       "      <th>4</th>\n",
       "      <td>cc2d26e9-675b-4f7b-9152-b4762c990d22</td>\n",
       "      <td>https://www.kuncie.com/premium/my-account/</td>\n",
       "      <td>https://www.kuncie.com/premium/premium/kelas/k...</td>\n",
       "      <td>NaN</td>\n",
       "      <td>2022-11-11 04:14:20.635000 UTC</td>\n",
       "      <td>5318;;;;</td>\n",
       "    </tr>\n",
       "  </tbody>\n",
       "</table>\n",
       "</div>"
      ],
      "text/plain": [
       "                                     id  \\\n",
       "0  2c50a3a5-5385-4c54-9682-04b57f0d0458   \n",
       "1  22132c6c-169d-46e9-a2d3-d0ecbee9a022   \n",
       "2  3c769ab9-239a-4e27-94ba-1d3b50dea61a   \n",
       "3  71ec45a1-85ac-4300-b7db-de9ecedd4e26   \n",
       "4  cc2d26e9-675b-4f7b-9152-b4762c990d22   \n",
       "\n",
       "                                page_referrer  \\\n",
       "0                             /premium/login/   \n",
       "1                             /premium/login/   \n",
       "2                             /premium/login/   \n",
       "3  https://www.kuncie.com/premium/my-account/   \n",
       "4  https://www.kuncie.com/premium/my-account/   \n",
       "\n",
       "                                            page_url kuncie_user_id  \\\n",
       "0               https://www.kuncie.com/premium/login             95   \n",
       "1               https://www.kuncie.com/premium/login             95   \n",
       "2               https://www.kuncie.com/premium/login             95   \n",
       "3  https://www.kuncie.com/premium/my-account/edit...            940   \n",
       "4  https://www.kuncie.com/premium/premium/kelas/k...            NaN   \n",
       "\n",
       "                             date visitor_id;;;;  \n",
       "0  2022-09-19 07:45:23.977000 UTC       2262;;;;  \n",
       "1  2022-09-19 04:48:52.648000 UTC        539;;;;  \n",
       "2  2022-09-19 10:30:55.521000 UTC       9451;;;;  \n",
       "3  2022-07-24 22:45:27.757000 UTC       4199;;;;  \n",
       "4  2022-11-11 04:14:20.635000 UTC       5318;;;;  "
      ]
     },
     "execution_count": 405,
     "metadata": {},
     "output_type": "execute_result"
    }
   ],
   "source": [
    "df = df.rename(columns = {'timestamp': 'date'})\n",
    "df.head ()"
   ]
  },
  {
   "cell_type": "code",
   "execution_count": 406,
   "id": "2608e46a",
   "metadata": {},
   "outputs": [
    {
     "data": {
      "text/html": [
       "<div>\n",
       "<style scoped>\n",
       "    .dataframe tbody tr th:only-of-type {\n",
       "        vertical-align: middle;\n",
       "    }\n",
       "\n",
       "    .dataframe tbody tr th {\n",
       "        vertical-align: top;\n",
       "    }\n",
       "\n",
       "    .dataframe thead th {\n",
       "        text-align: right;\n",
       "    }\n",
       "</style>\n",
       "<table border=\"1\" class=\"dataframe\">\n",
       "  <thead>\n",
       "    <tr style=\"text-align: right;\">\n",
       "      <th></th>\n",
       "      <th>id</th>\n",
       "      <th>page_referrer</th>\n",
       "      <th>page_url</th>\n",
       "      <th>kuncie_user_id</th>\n",
       "      <th>date</th>\n",
       "      <th>visitor_id</th>\n",
       "    </tr>\n",
       "  </thead>\n",
       "  <tbody>\n",
       "    <tr>\n",
       "      <th>0</th>\n",
       "      <td>2c50a3a5-5385-4c54-9682-04b57f0d0458</td>\n",
       "      <td>/premium/login/</td>\n",
       "      <td>https://www.kuncie.com/premium/login</td>\n",
       "      <td>95</td>\n",
       "      <td>2022-09-19 07:45:23.977000 UTC</td>\n",
       "      <td>2262;;;;</td>\n",
       "    </tr>\n",
       "    <tr>\n",
       "      <th>1</th>\n",
       "      <td>22132c6c-169d-46e9-a2d3-d0ecbee9a022</td>\n",
       "      <td>/premium/login/</td>\n",
       "      <td>https://www.kuncie.com/premium/login</td>\n",
       "      <td>95</td>\n",
       "      <td>2022-09-19 04:48:52.648000 UTC</td>\n",
       "      <td>539;;;;</td>\n",
       "    </tr>\n",
       "    <tr>\n",
       "      <th>2</th>\n",
       "      <td>3c769ab9-239a-4e27-94ba-1d3b50dea61a</td>\n",
       "      <td>/premium/login/</td>\n",
       "      <td>https://www.kuncie.com/premium/login</td>\n",
       "      <td>95</td>\n",
       "      <td>2022-09-19 10:30:55.521000 UTC</td>\n",
       "      <td>9451;;;;</td>\n",
       "    </tr>\n",
       "    <tr>\n",
       "      <th>3</th>\n",
       "      <td>71ec45a1-85ac-4300-b7db-de9ecedd4e26</td>\n",
       "      <td>https://www.kuncie.com/premium/my-account/</td>\n",
       "      <td>https://www.kuncie.com/premium/my-account/edit...</td>\n",
       "      <td>940</td>\n",
       "      <td>2022-07-24 22:45:27.757000 UTC</td>\n",
       "      <td>4199;;;;</td>\n",
       "    </tr>\n",
       "    <tr>\n",
       "      <th>4</th>\n",
       "      <td>cc2d26e9-675b-4f7b-9152-b4762c990d22</td>\n",
       "      <td>https://www.kuncie.com/premium/my-account/</td>\n",
       "      <td>https://www.kuncie.com/premium/premium/kelas/k...</td>\n",
       "      <td>NaN</td>\n",
       "      <td>2022-11-11 04:14:20.635000 UTC</td>\n",
       "      <td>5318;;;;</td>\n",
       "    </tr>\n",
       "  </tbody>\n",
       "</table>\n",
       "</div>"
      ],
      "text/plain": [
       "                                     id  \\\n",
       "0  2c50a3a5-5385-4c54-9682-04b57f0d0458   \n",
       "1  22132c6c-169d-46e9-a2d3-d0ecbee9a022   \n",
       "2  3c769ab9-239a-4e27-94ba-1d3b50dea61a   \n",
       "3  71ec45a1-85ac-4300-b7db-de9ecedd4e26   \n",
       "4  cc2d26e9-675b-4f7b-9152-b4762c990d22   \n",
       "\n",
       "                                page_referrer  \\\n",
       "0                             /premium/login/   \n",
       "1                             /premium/login/   \n",
       "2                             /premium/login/   \n",
       "3  https://www.kuncie.com/premium/my-account/   \n",
       "4  https://www.kuncie.com/premium/my-account/   \n",
       "\n",
       "                                            page_url kuncie_user_id  \\\n",
       "0               https://www.kuncie.com/premium/login             95   \n",
       "1               https://www.kuncie.com/premium/login             95   \n",
       "2               https://www.kuncie.com/premium/login             95   \n",
       "3  https://www.kuncie.com/premium/my-account/edit...            940   \n",
       "4  https://www.kuncie.com/premium/premium/kelas/k...            NaN   \n",
       "\n",
       "                             date visitor_id  \n",
       "0  2022-09-19 07:45:23.977000 UTC   2262;;;;  \n",
       "1  2022-09-19 04:48:52.648000 UTC    539;;;;  \n",
       "2  2022-09-19 10:30:55.521000 UTC   9451;;;;  \n",
       "3  2022-07-24 22:45:27.757000 UTC   4199;;;;  \n",
       "4  2022-11-11 04:14:20.635000 UTC   5318;;;;  "
      ]
     },
     "execution_count": 406,
     "metadata": {},
     "output_type": "execute_result"
    }
   ],
   "source": [
    "df = df.rename(columns = {'visitor_id;;;;': 'visitor_id'})\n",
    "df.head ()"
   ]
  },
  {
   "cell_type": "code",
   "execution_count": 407,
   "id": "581d5b45",
   "metadata": {},
   "outputs": [
    {
     "name": "stdout",
     "output_type": "stream",
     "text": [
      "id                object\n",
      "page_referrer     object\n",
      "page_url          object\n",
      "kuncie_user_id    object\n",
      "date              object\n",
      "visitor_id        object\n",
      "dtype: object\n"
     ]
    }
   ],
   "source": [
    "print(df.dtypes)"
   ]
  },
  {
   "cell_type": "code",
   "execution_count": 408,
   "id": "63076590",
   "metadata": {},
   "outputs": [
    {
     "data": {
      "text/html": [
       "<div>\n",
       "<style scoped>\n",
       "    .dataframe tbody tr th:only-of-type {\n",
       "        vertical-align: middle;\n",
       "    }\n",
       "\n",
       "    .dataframe tbody tr th {\n",
       "        vertical-align: top;\n",
       "    }\n",
       "\n",
       "    .dataframe thead th {\n",
       "        text-align: right;\n",
       "    }\n",
       "</style>\n",
       "<table border=\"1\" class=\"dataframe\">\n",
       "  <thead>\n",
       "    <tr style=\"text-align: right;\">\n",
       "      <th></th>\n",
       "      <th>id</th>\n",
       "      <th>page_referrer</th>\n",
       "      <th>page_url</th>\n",
       "      <th>kuncie_user_id</th>\n",
       "      <th>date</th>\n",
       "      <th>visitor_id</th>\n",
       "    </tr>\n",
       "  </thead>\n",
       "  <tbody>\n",
       "    <tr>\n",
       "      <th>count</th>\n",
       "      <td>28294</td>\n",
       "      <td>28032</td>\n",
       "      <td>28032</td>\n",
       "      <td>25527</td>\n",
       "      <td>28030</td>\n",
       "      <td>28026</td>\n",
       "    </tr>\n",
       "    <tr>\n",
       "      <th>unique</th>\n",
       "      <td>28271</td>\n",
       "      <td>9893</td>\n",
       "      <td>8978</td>\n",
       "      <td>1221</td>\n",
       "      <td>28004</td>\n",
       "      <td>16195</td>\n",
       "    </tr>\n",
       "    <tr>\n",
       "      <th>top</th>\n",
       "      <td>5867a8e4-95fd-4493-a218-61a655728d95</td>\n",
       "      <td>https://www.kuncie.com/premium/my-account/</td>\n",
       "      <td>https://www.kuncie.com/premium/cart</td>\n",
       "      <td>0</td>\n",
       "      <td>b1ae824a-0123-4c20-a4ae-45e3ecbe6067\";;</td>\n",
       "      <td>;;;;</td>\n",
       "    </tr>\n",
       "    <tr>\n",
       "      <th>freq</th>\n",
       "      <td>2</td>\n",
       "      <td>803</td>\n",
       "      <td>2093</td>\n",
       "      <td>21494</td>\n",
       "      <td>3</td>\n",
       "      <td>1619</td>\n",
       "    </tr>\n",
       "  </tbody>\n",
       "</table>\n",
       "</div>"
      ],
      "text/plain": [
       "                                          id  \\\n",
       "count                                  28294   \n",
       "unique                                 28271   \n",
       "top     5867a8e4-95fd-4493-a218-61a655728d95   \n",
       "freq                                       2   \n",
       "\n",
       "                                     page_referrer  \\\n",
       "count                                        28032   \n",
       "unique                                        9893   \n",
       "top     https://www.kuncie.com/premium/my-account/   \n",
       "freq                                           803   \n",
       "\n",
       "                                   page_url kuncie_user_id  \\\n",
       "count                                 28032          25527   \n",
       "unique                                 8978           1221   \n",
       "top     https://www.kuncie.com/premium/cart              0   \n",
       "freq                                   2093          21494   \n",
       "\n",
       "                                           date visitor_id  \n",
       "count                                     28030      28026  \n",
       "unique                                    28004      16195  \n",
       "top     b1ae824a-0123-4c20-a4ae-45e3ecbe6067\";;       ;;;;  \n",
       "freq                                          3       1619  "
      ]
     },
     "execution_count": 408,
     "metadata": {},
     "output_type": "execute_result"
    }
   ],
   "source": [
    "df.describe()"
   ]
  },
  {
   "cell_type": "code",
   "execution_count": 409,
   "id": "fe068c0b",
   "metadata": {},
   "outputs": [
    {
     "data": {
      "text/plain": [
       "id                28271\n",
       "page_referrer      9893\n",
       "page_url           8978\n",
       "kuncie_user_id     1221\n",
       "date              28004\n",
       "visitor_id        16195\n",
       "dtype: int64"
      ]
     },
     "execution_count": 409,
     "metadata": {},
     "output_type": "execute_result"
    }
   ],
   "source": [
    "df.nunique()"
   ]
  },
  {
   "cell_type": "code",
   "execution_count": 410,
   "id": "a59be813",
   "metadata": {},
   "outputs": [
    {
     "data": {
      "text/plain": [
       "id                   0\n",
       "page_referrer      262\n",
       "page_url           262\n",
       "kuncie_user_id    2767\n",
       "date               264\n",
       "visitor_id         268\n",
       "dtype: int64"
      ]
     },
     "execution_count": 410,
     "metadata": {},
     "output_type": "execute_result"
    }
   ],
   "source": [
    "df.isnull().sum()"
   ]
  },
  {
   "cell_type": "markdown",
   "id": "21856416",
   "metadata": {},
   "source": [
    "# Missing Value#"
   ]
  },
  {
   "cell_type": "code",
   "execution_count": 411,
   "id": "69be8681",
   "metadata": {},
   "outputs": [
    {
     "data": {
      "text/html": [
       "<div>\n",
       "<style scoped>\n",
       "    .dataframe tbody tr th:only-of-type {\n",
       "        vertical-align: middle;\n",
       "    }\n",
       "\n",
       "    .dataframe tbody tr th {\n",
       "        vertical-align: top;\n",
       "    }\n",
       "\n",
       "    .dataframe thead th {\n",
       "        text-align: right;\n",
       "    }\n",
       "</style>\n",
       "<table border=\"1\" class=\"dataframe\">\n",
       "  <thead>\n",
       "    <tr style=\"text-align: right;\">\n",
       "      <th></th>\n",
       "      <th>id</th>\n",
       "      <th>page_referrer</th>\n",
       "      <th>page_url</th>\n",
       "      <th>kuncie_user_id</th>\n",
       "      <th>date</th>\n",
       "      <th>visitor_id</th>\n",
       "    </tr>\n",
       "  </thead>\n",
       "  <tbody>\n",
       "    <tr>\n",
       "      <th>4</th>\n",
       "      <td>cc2d26e9-675b-4f7b-9152-b4762c990d22</td>\n",
       "      <td>https://www.kuncie.com/premium/my-account/</td>\n",
       "      <td>https://www.kuncie.com/premium/premium/kelas/k...</td>\n",
       "      <td>NaN</td>\n",
       "      <td>2022-11-11 04:14:20.635000 UTC</td>\n",
       "      <td>5318;;;;</td>\n",
       "    </tr>\n",
       "    <tr>\n",
       "      <th>5</th>\n",
       "      <td>1395f16e-4ae4-4c73-ac50-440158986e1f</td>\n",
       "      <td>https://www.kuncie.com/premium/kelas/kuncie-x-...</td>\n",
       "      <td>https://www.kuncie.com/premium/premium/kelas/k...</td>\n",
       "      <td>NaN</td>\n",
       "      <td>2022-11-03 16:22:08.011000 UTC</td>\n",
       "      <td>8763;;;;</td>\n",
       "    </tr>\n",
       "    <tr>\n",
       "      <th>13</th>\n",
       "      <td>2026d282-8372-47fc-a643-88255764fa18</td>\n",
       "      <td>https://www.kuncie.com/premium/kelas/kuncie-x-...</td>\n",
       "      <td>https://www.kuncie.com/premium/premium/kelas/k...</td>\n",
       "      <td>NaN</td>\n",
       "      <td>2022-12-27 16:36:50.111000 UTC</td>\n",
       "      <td>8206;;;;</td>\n",
       "    </tr>\n",
       "    <tr>\n",
       "      <th>14</th>\n",
       "      <td>9ac0be34-6727-4a93-b739-9ec3da14989a</td>\n",
       "      <td>https://www.kuncie.com/premium/kelas/kuncie-x-...</td>\n",
       "      <td>https://www.kuncie.com/premium/premium/kelas/k...</td>\n",
       "      <td>NaN</td>\n",
       "      <td>2022-11-05 05:56:29.864000 UTC</td>\n",
       "      <td>4383;;;;</td>\n",
       "    </tr>\n",
       "    <tr>\n",
       "      <th>17</th>\n",
       "      <td>62d8ced5-028d-4d24-becb-56bf7effba5a</td>\n",
       "      <td>https://www.kuncie.com/premium/kelas/kuncie-x-...</td>\n",
       "      <td>https://www.kuncie.com/premium/premium/kelas/k...</td>\n",
       "      <td>NaN</td>\n",
       "      <td>2022-11-05 10:29:23.967000 UTC</td>\n",
       "      <td>6915;;;;</td>\n",
       "    </tr>\n",
       "    <tr>\n",
       "      <th>...</th>\n",
       "      <td>...</td>\n",
       "      <td>...</td>\n",
       "      <td>...</td>\n",
       "      <td>...</td>\n",
       "      <td>...</td>\n",
       "      <td>...</td>\n",
       "    </tr>\n",
       "    <tr>\n",
       "      <th>28243</th>\n",
       "      <td>8deb2320-eb6d-4f98-96a2-2b4b0b54be58</td>\n",
       "      <td>https://www.kuncie.com/premium/kelas/kuncie-x-...</td>\n",
       "      <td>https://www.kuncie.com/premium/premium/kelas/k...</td>\n",
       "      <td>NaN</td>\n",
       "      <td>2023-01-03 00:41:41.317000 UTC</td>\n",
       "      <td>6197;;;;</td>\n",
       "    </tr>\n",
       "    <tr>\n",
       "      <th>28247</th>\n",
       "      <td>9b37093c-77f2-4490-8a32-f77f8e40389d,https://w...</td>\n",
       "      <td>NaN</td>\n",
       "      <td>NaN</td>\n",
       "      <td>NaN</td>\n",
       "      <td>NaN</td>\n",
       "      <td>NaN</td>\n",
       "    </tr>\n",
       "    <tr>\n",
       "      <th>28277</th>\n",
       "      <td>3c6774ab-ba40-42c2-9502-199248f7fdff</td>\n",
       "      <td>https://www.kuncie.com/premium/kelas/dasar-men...</td>\n",
       "      <td>https://www.kuncie.com/premium/premium/kelas/d...</td>\n",
       "      <td>NaN</td>\n",
       "      <td>2022-12-09 06:23:22.309000 UTC</td>\n",
       "      <td>9986;;;;</td>\n",
       "    </tr>\n",
       "    <tr>\n",
       "      <th>28282</th>\n",
       "      <td>45d9ec6f-b58a-4fcc-90f6-b21dc2b5287f</td>\n",
       "      <td>https://www.kuncie.com/premium/kelas/kuncie-x-...</td>\n",
       "      <td>https://www.kuncie.com/premium/premium/kelas/k...</td>\n",
       "      <td>NaN</td>\n",
       "      <td>2022-12-23 07:41:28.280000 UTC</td>\n",
       "      <td>3353;;;;</td>\n",
       "    </tr>\n",
       "    <tr>\n",
       "      <th>28283</th>\n",
       "      <td>a2870ba9-0588-4eeb-af81-57fad98fdbe5</td>\n",
       "      <td>https://www.kuncie.com/premium/kursus-product-...</td>\n",
       "      <td>https://www.kuncie.com/premium/premium/kursus-...</td>\n",
       "      <td>NaN</td>\n",
       "      <td>2022-12-21 03:16:33.557000 UTC</td>\n",
       "      <td>6848;;;;</td>\n",
       "    </tr>\n",
       "  </tbody>\n",
       "</table>\n",
       "<p>2773 rows × 6 columns</p>\n",
       "</div>"
      ],
      "text/plain": [
       "                                                      id  \\\n",
       "4                   cc2d26e9-675b-4f7b-9152-b4762c990d22   \n",
       "5                   1395f16e-4ae4-4c73-ac50-440158986e1f   \n",
       "13                  2026d282-8372-47fc-a643-88255764fa18   \n",
       "14                  9ac0be34-6727-4a93-b739-9ec3da14989a   \n",
       "17                  62d8ced5-028d-4d24-becb-56bf7effba5a   \n",
       "...                                                  ...   \n",
       "28243               8deb2320-eb6d-4f98-96a2-2b4b0b54be58   \n",
       "28247  9b37093c-77f2-4490-8a32-f77f8e40389d,https://w...   \n",
       "28277               3c6774ab-ba40-42c2-9502-199248f7fdff   \n",
       "28282               45d9ec6f-b58a-4fcc-90f6-b21dc2b5287f   \n",
       "28283               a2870ba9-0588-4eeb-af81-57fad98fdbe5   \n",
       "\n",
       "                                           page_referrer  \\\n",
       "4             https://www.kuncie.com/premium/my-account/   \n",
       "5      https://www.kuncie.com/premium/kelas/kuncie-x-...   \n",
       "13     https://www.kuncie.com/premium/kelas/kuncie-x-...   \n",
       "14     https://www.kuncie.com/premium/kelas/kuncie-x-...   \n",
       "17     https://www.kuncie.com/premium/kelas/kuncie-x-...   \n",
       "...                                                  ...   \n",
       "28243  https://www.kuncie.com/premium/kelas/kuncie-x-...   \n",
       "28247                                                NaN   \n",
       "28277  https://www.kuncie.com/premium/kelas/dasar-men...   \n",
       "28282  https://www.kuncie.com/premium/kelas/kuncie-x-...   \n",
       "28283  https://www.kuncie.com/premium/kursus-product-...   \n",
       "\n",
       "                                                page_url kuncie_user_id  \\\n",
       "4      https://www.kuncie.com/premium/premium/kelas/k...            NaN   \n",
       "5      https://www.kuncie.com/premium/premium/kelas/k...            NaN   \n",
       "13     https://www.kuncie.com/premium/premium/kelas/k...            NaN   \n",
       "14     https://www.kuncie.com/premium/premium/kelas/k...            NaN   \n",
       "17     https://www.kuncie.com/premium/premium/kelas/k...            NaN   \n",
       "...                                                  ...            ...   \n",
       "28243  https://www.kuncie.com/premium/premium/kelas/k...            NaN   \n",
       "28247                                                NaN            NaN   \n",
       "28277  https://www.kuncie.com/premium/premium/kelas/d...            NaN   \n",
       "28282  https://www.kuncie.com/premium/premium/kelas/k...            NaN   \n",
       "28283  https://www.kuncie.com/premium/premium/kursus-...            NaN   \n",
       "\n",
       "                                 date visitor_id  \n",
       "4      2022-11-11 04:14:20.635000 UTC   5318;;;;  \n",
       "5      2022-11-03 16:22:08.011000 UTC   8763;;;;  \n",
       "13     2022-12-27 16:36:50.111000 UTC   8206;;;;  \n",
       "14     2022-11-05 05:56:29.864000 UTC   4383;;;;  \n",
       "17     2022-11-05 10:29:23.967000 UTC   6915;;;;  \n",
       "...                               ...        ...  \n",
       "28243  2023-01-03 00:41:41.317000 UTC   6197;;;;  \n",
       "28247                             NaN        NaN  \n",
       "28277  2022-12-09 06:23:22.309000 UTC   9986;;;;  \n",
       "28282  2022-12-23 07:41:28.280000 UTC   3353;;;;  \n",
       "28283  2022-12-21 03:16:33.557000 UTC   6848;;;;  \n",
       "\n",
       "[2773 rows x 6 columns]"
      ]
     },
     "execution_count": 411,
     "metadata": {},
     "output_type": "execute_result"
    }
   ],
   "source": [
    "nan_data= df[df.isna().any(axis=1)]\n",
    "nan_data"
   ]
  },
  {
   "cell_type": "code",
   "execution_count": 412,
   "id": "cb8180e4",
   "metadata": {},
   "outputs": [
    {
     "data": {
      "text/html": [
       "<div>\n",
       "<style scoped>\n",
       "    .dataframe tbody tr th:only-of-type {\n",
       "        vertical-align: middle;\n",
       "    }\n",
       "\n",
       "    .dataframe tbody tr th {\n",
       "        vertical-align: top;\n",
       "    }\n",
       "\n",
       "    .dataframe thead th {\n",
       "        text-align: right;\n",
       "    }\n",
       "</style>\n",
       "<table border=\"1\" class=\"dataframe\">\n",
       "  <thead>\n",
       "    <tr style=\"text-align: right;\">\n",
       "      <th></th>\n",
       "      <th>id</th>\n",
       "      <th>page_referrer</th>\n",
       "      <th>page_url</th>\n",
       "      <th>kuncie_user_id</th>\n",
       "      <th>date</th>\n",
       "      <th>visitor_id</th>\n",
       "    </tr>\n",
       "  </thead>\n",
       "  <tbody>\n",
       "    <tr>\n",
       "      <th>0</th>\n",
       "      <td>2c50a3a5-5385-4c54-9682-04b57f0d0458</td>\n",
       "      <td>/premium/login/</td>\n",
       "      <td>https://www.kuncie.com/premium/login</td>\n",
       "      <td>95</td>\n",
       "      <td>2022-09-19 07:45:23.977000 UTC</td>\n",
       "      <td>2262;;;;</td>\n",
       "    </tr>\n",
       "    <tr>\n",
       "      <th>1</th>\n",
       "      <td>22132c6c-169d-46e9-a2d3-d0ecbee9a022</td>\n",
       "      <td>/premium/login/</td>\n",
       "      <td>https://www.kuncie.com/premium/login</td>\n",
       "      <td>95</td>\n",
       "      <td>2022-09-19 04:48:52.648000 UTC</td>\n",
       "      <td>539;;;;</td>\n",
       "    </tr>\n",
       "    <tr>\n",
       "      <th>2</th>\n",
       "      <td>3c769ab9-239a-4e27-94ba-1d3b50dea61a</td>\n",
       "      <td>/premium/login/</td>\n",
       "      <td>https://www.kuncie.com/premium/login</td>\n",
       "      <td>95</td>\n",
       "      <td>2022-09-19 10:30:55.521000 UTC</td>\n",
       "      <td>9451;;;;</td>\n",
       "    </tr>\n",
       "    <tr>\n",
       "      <th>3</th>\n",
       "      <td>71ec45a1-85ac-4300-b7db-de9ecedd4e26</td>\n",
       "      <td>https://www.kuncie.com/premium/my-account/</td>\n",
       "      <td>https://www.kuncie.com/premium/my-account/edit...</td>\n",
       "      <td>940</td>\n",
       "      <td>2022-07-24 22:45:27.757000 UTC</td>\n",
       "      <td>4199;;;;</td>\n",
       "    </tr>\n",
       "    <tr>\n",
       "      <th>6</th>\n",
       "      <td>67fecf75-69d3-4e8e-95f1-84f12e99a8cf</td>\n",
       "      <td>https://www.kuncie.com/premium/kelas/redeem-vo...</td>\n",
       "      <td>https://www.kuncie.com/premium/kelas/redeem-vo...</td>\n",
       "      <td>1120</td>\n",
       "      <td>2022-09-20 14:25:58.854000 UTC</td>\n",
       "      <td>941;;;;</td>\n",
       "    </tr>\n",
       "  </tbody>\n",
       "</table>\n",
       "</div>"
      ],
      "text/plain": [
       "                                     id  \\\n",
       "0  2c50a3a5-5385-4c54-9682-04b57f0d0458   \n",
       "1  22132c6c-169d-46e9-a2d3-d0ecbee9a022   \n",
       "2  3c769ab9-239a-4e27-94ba-1d3b50dea61a   \n",
       "3  71ec45a1-85ac-4300-b7db-de9ecedd4e26   \n",
       "6  67fecf75-69d3-4e8e-95f1-84f12e99a8cf   \n",
       "\n",
       "                                       page_referrer  \\\n",
       "0                                    /premium/login/   \n",
       "1                                    /premium/login/   \n",
       "2                                    /premium/login/   \n",
       "3         https://www.kuncie.com/premium/my-account/   \n",
       "6  https://www.kuncie.com/premium/kelas/redeem-vo...   \n",
       "\n",
       "                                            page_url kuncie_user_id  \\\n",
       "0               https://www.kuncie.com/premium/login             95   \n",
       "1               https://www.kuncie.com/premium/login             95   \n",
       "2               https://www.kuncie.com/premium/login             95   \n",
       "3  https://www.kuncie.com/premium/my-account/edit...            940   \n",
       "6  https://www.kuncie.com/premium/kelas/redeem-vo...           1120   \n",
       "\n",
       "                             date visitor_id  \n",
       "0  2022-09-19 07:45:23.977000 UTC   2262;;;;  \n",
       "1  2022-09-19 04:48:52.648000 UTC    539;;;;  \n",
       "2  2022-09-19 10:30:55.521000 UTC   9451;;;;  \n",
       "3  2022-07-24 22:45:27.757000 UTC   4199;;;;  \n",
       "6  2022-09-20 14:25:58.854000 UTC    941;;;;  "
      ]
     },
     "execution_count": 412,
     "metadata": {},
     "output_type": "execute_result"
    }
   ],
   "source": [
    "df=df.dropna()\n",
    "df.head ()"
   ]
  },
  {
   "cell_type": "code",
   "execution_count": 413,
   "id": "481a0a13",
   "metadata": {},
   "outputs": [
    {
     "data": {
      "text/plain": [
       "id                0\n",
       "page_referrer     0\n",
       "page_url          0\n",
       "kuncie_user_id    0\n",
       "date              0\n",
       "visitor_id        0\n",
       "dtype: int64"
      ]
     },
     "execution_count": 413,
     "metadata": {},
     "output_type": "execute_result"
    }
   ],
   "source": [
    "df.isnull().sum()"
   ]
  },
  {
   "cell_type": "markdown",
   "id": "5345f82f",
   "metadata": {},
   "source": [
    "# Konversi Tipe Data Date#"
   ]
  },
  {
   "cell_type": "code",
   "execution_count": 425,
   "id": "c350c88a",
   "metadata": {},
   "outputs": [],
   "source": [
    "df['date'] = pd.to_datetime(df['date'])"
   ]
  },
  {
   "cell_type": "code",
   "execution_count": 439,
   "id": "a13879d1",
   "metadata": {},
   "outputs": [
    {
     "data": {
      "text/plain": [
       "0       2022-09-19 07:45:23.977000+00:00\n",
       "1       2022-09-19 04:48:52.648000+00:00\n",
       "2       2022-09-19 10:30:55.521000+00:00\n",
       "3       2022-07-24 22:45:27.757000+00:00\n",
       "6       2022-09-20 14:25:58.854000+00:00\n",
       "                      ...               \n",
       "28289   2022-09-30 10:25:58.861000+00:00\n",
       "28290   2022-08-27 15:07:30.956000+00:00\n",
       "28291   2023-01-31 02:20:21.020000+00:00\n",
       "28292   2022-08-12 22:10:17.125000+00:00\n",
       "28293   2023-01-07 03:27:13.275000+00:00\n",
       "Name: date, Length: 25521, dtype: datetime64[ns, UTC]"
      ]
     },
     "execution_count": 439,
     "metadata": {},
     "output_type": "execute_result"
    }
   ],
   "source": [
    "df['date']"
   ]
  },
  {
   "cell_type": "code",
   "execution_count": 427,
   "id": "c30d15ce",
   "metadata": {},
   "outputs": [
    {
     "data": {
      "text/plain": [
       "2023-02-05 23:52:42.900000+00:00    2\n",
       "2023-02-03 23:26:39.436000+00:00    2\n",
       "2023-03-26 20:34:23.677000+00:00    2\n",
       "2023-02-05 21:37:16.511000+00:00    2\n",
       "2023-02-03 19:15:05.876000+00:00    2\n",
       "                                   ..\n",
       "2022-11-29 01:55:58.740000+00:00    1\n",
       "2022-08-02 08:55:53.372000+00:00    1\n",
       "2022-11-29 09:11:48.912000+00:00    1\n",
       "2023-03-29 06:02:51.941000+00:00    1\n",
       "2023-01-07 03:27:13.275000+00:00    1\n",
       "Name: date, Length: 25503, dtype: int64"
      ]
     },
     "execution_count": 427,
     "metadata": {},
     "output_type": "execute_result"
    }
   ],
   "source": [
    "df['date'].value_counts()"
   ]
  },
  {
   "cell_type": "code",
   "execution_count": 418,
   "id": "152d6af8",
   "metadata": {},
   "outputs": [
    {
     "data": {
      "text/plain": [
       "https://lifestyle.haluan.co/                                                                                                                                                                                                                                                                                                                                                                                                                                                                                               555\n",
       "https://www.kuncie.com/premium/my-account/                                                                                                                                                                                                                                                                                                                                                                                                                                                                                 533\n",
       "https://www.kuncie.com                                                                                                                                                                                                                                                                                                                                                                                                                                                                                                     513\n",
       "/premium/login/                                                                                                                                                                                                                                                                                                                                                                                                                                                                                                            356\n",
       "https://www.kuncie.com/premium/mini-mba/                                                                                                                                                                                                                                                                                                                                                                                                                                                                                   350\n",
       "                                                                                                                                                                                                                                                                                                                                                                                                                                                                                                                          ... \n",
       "https://www.kuncie.com/premium/mini-mba/?utm_source=paid-ads&utm_medium=facebook&utm_campaign=SA+career+development&coupon-code=ACQMBA15FLAT&fbclid=PAAabf-orzkywvxmd0xAagrEokLoFd37LaNtCB-KIR74Jq05hOaNL3Ym1x7wg_aem_AarFetHdpnGdFMbCNRrCU1_1-ug0TGZhYCiqYjC1Fr7rEU-YlyuOuQOAHBU9XAoEBbY5i7LKUmmvLYzch9DPIgbbuZisY8TmATBqy3exe1FDPmkgEff02GPXKUKFDUBvuJ8&external_browser_redirect=true                                                                                                                                     1\n",
       "https://www.kuncie.com/premium/microsoft-certification-program/?utm_source=paid-ads&utm_medium=gdn&utm_campaign=Kuncie-Jago-MES-Microsoft-bundling&coupon-code=ACQMES350&gclid=EAIaIQobChMI1dT0hdCF_gIV14xLBR3RuQrQEAEYASAAEgLo1fD_BwE                                                                                                                                                                                                                                                                                       1\n",
       "https://www.kuncie.com/premium/live-mba/strategy/?utm_source=paid-ads&utm_medium=facebook&utm_campaign=conversion+Broad+Targeting&coupon-code=LIVEMBA500RB&fbclid=IwAR1VGPKgcohdp2y6regmBqFK3f3kYYQnaFhgX8S9kbANuNODH_36TQX-uf8                                                                                                                                                                                                                                                                                              1\n",
       "https://www.kuncie.com/premium/microsoft-certification-program/?utm_source=paid-ads&utm_medium=tiktok&utm_campaign=kuncie-jago-mes-microsoft-office&lpt=1&ttclid=E.C.P.CtEBFeEeR4nx9SwVZnDRto19OV8XqcCV6LEPcvY_xlkxAP17-lgjwx2oMVkIMKdlbdG1G7J0cGRZWbfffuC01kx7XOnyg2vAUqpiE4ctAtJs-J6mfGxL2Wc5gMoWyU4D4GLUsZjZv7Mm4FKrC3mT7Ekm-AHnKedS-lCvpRVE_dUcWDQWQKNiOXKwCVSqcnvXX5CX0Umy0jukr7IsNCfJZsJr3S2_eHfRvcnQn0tmczz8SPf6qSeN-DYfHzRX3C0k_wiZR0GhCxm9BlHoxyZmKiv0JBwSBHYyLjAaIHbZhYba9Jz2PcmNcSCHovd75Fe5SK6iWvhuHbhAVHwB      1\n",
       "https://pt.slideshare.net/                                                                                                                                                                                                                                                                                                                                                                                                                                                                                                   1\n",
       "Name: page_referrer, Length: 9575, dtype: int64"
      ]
     },
     "execution_count": 418,
     "metadata": {},
     "output_type": "execute_result"
    }
   ],
   "source": [
    "df['page_referrer'].value_counts()"
   ]
  },
  {
   "cell_type": "code",
   "execution_count": 419,
   "id": "078470d5",
   "metadata": {},
   "outputs": [
    {
     "data": {
      "text/plain": [
       "https://www.kuncie.com/premium/cart                                                                                                                                                                                                                     2093\n",
       "https://www.kuncie.com/premium/premium/cart/                                                                                                                                                                                                            1702\n",
       "https://www.kuncie.com/premium/login                                                                                                                                                                                                                     863\n",
       "https://www.kuncie.com/premium/kelas                                                                                                                                                                                                                     315\n",
       "https://www.kuncie.com/premium                                                                                                                                                                                                                           279\n",
       "                                                                                                                                                                                                                                                        ... \n",
       "https://www.kuncie.com/premium/?utm_source=paid-ads&utm_medium=gdn&utm_campaign=Kuncie-Jago-Home-Makin-Hoki&coupon-code=ACQJAGOKNC10&gclid=EAIaIQobChMIn5fDltva_QIVCkiPCh3f6gC3EAEYASAAEgJjdvD_BwE                                                         1\n",
       "https://www.kuncie.com/premium/political-marketing/?utm_source=paid-ads&utm_medium=gdn&utm_campaign=GDN+TOFU+WEBSITE+POLITIK&coupon-code=POLMAR1JT&gclid=CjwKCAjwiOCgBhAgEiwAjv5whGqLVVZ3k0-G9UdyLFCtsgcC5N4cPRqUy6n490WipcRew-uQXlfeuRoCyRsQAvD_BwE       1\n",
       "https://www.kuncie.com/premium/my-account/view-order/73267                                                                                                                                                                                                 1\n",
       "https://www.kuncie.com/premium/mini-mba/?utm_source=paid-ads&utm_medium=gdn&utm_campaign=gdn+leads+campaign&gclid=EAIaIQobChMIgeidveSR_QIVyRDVCh1MHggzEAEYASAAEgLASPD_BwE                                                                                  1\n",
       "https://www.kuncie.com/premium/live-mba/leadership/?utm_source=paid-ads&utm_medium=gdn&utm_campaign=GDN+TOFU+ATC&coupon-code=LIVEMBA500RB&gclid=CjwKCAiAxvGfBhB-EiwAMPakqtUdOIn8p3SLYzMuBsMKllCX7C5t2QDaTq9z3LDddZnDIhJHAP8QuxoCW_gQAvD_BwE                1\n",
       "Name: page_url, Length: 8427, dtype: int64"
      ]
     },
     "execution_count": 419,
     "metadata": {},
     "output_type": "execute_result"
    }
   ],
   "source": [
    "df['page_url'].value_counts()"
   ]
  },
  {
   "cell_type": "code",
   "execution_count": 429,
   "id": "de9ee88c",
   "metadata": {},
   "outputs": [],
   "source": [
    "df['visitor_id'] = pd.to_numeric(df['visitor_id'], errors='coerce').fillna(0).astype(int)\n",
    "df['kuncie_user_id'] = pd.to_numeric(df['kuncie_user_id'], errors='coerce').fillna(0).astype(int)"
   ]
  },
  {
   "cell_type": "code",
   "execution_count": 430,
   "id": "0c3e0b12",
   "metadata": {},
   "outputs": [
    {
     "name": "stdout",
     "output_type": "stream",
     "text": [
      "id                             object\n",
      "page_referrer                  object\n",
      "page_url                       object\n",
      "kuncie_user_id                  int32\n",
      "date              datetime64[ns, UTC]\n",
      "visitor_id                      int32\n",
      "dtype: object\n"
     ]
    }
   ],
   "source": [
    "print (df.dtypes)"
   ]
  },
  {
   "cell_type": "code",
   "execution_count": 431,
   "id": "cab413f4",
   "metadata": {},
   "outputs": [
    {
     "data": {
      "text/plain": [
       "https://lifestyle.haluan.co/                                                                                                                                                                                                                                                                                                                                                                                                                                                                                               555\n",
       "https://www.kuncie.com/premium/my-account/                                                                                                                                                                                                                                                                                                                                                                                                                                                                                 533\n",
       "https://www.kuncie.com                                                                                                                                                                                                                                                                                                                                                                                                                                                                                                     513\n",
       "/premium/login/                                                                                                                                                                                                                                                                                                                                                                                                                                                                                                            356\n",
       "https://www.kuncie.com/premium/mini-mba/                                                                                                                                                                                                                                                                                                                                                                                                                                                                                   350\n",
       "                                                                                                                                                                                                                                                                                                                                                                                                                                                                                                                          ... \n",
       "https://www.kuncie.com/premium/mini-mba/?utm_source=paid-ads&utm_medium=facebook&utm_campaign=SA+career+development&coupon-code=ACQMBA15FLAT&fbclid=PAAabf-orzkywvxmd0xAagrEokLoFd37LaNtCB-KIR74Jq05hOaNL3Ym1x7wg_aem_AarFetHdpnGdFMbCNRrCU1_1-ug0TGZhYCiqYjC1Fr7rEU-YlyuOuQOAHBU9XAoEBbY5i7LKUmmvLYzch9DPIgbbuZisY8TmATBqy3exe1FDPmkgEff02GPXKUKFDUBvuJ8&external_browser_redirect=true                                                                                                                                     1\n",
       "https://www.kuncie.com/premium/microsoft-certification-program/?utm_source=paid-ads&utm_medium=gdn&utm_campaign=Kuncie-Jago-MES-Microsoft-bundling&coupon-code=ACQMES350&gclid=EAIaIQobChMI1dT0hdCF_gIV14xLBR3RuQrQEAEYASAAEgLo1fD_BwE                                                                                                                                                                                                                                                                                       1\n",
       "https://www.kuncie.com/premium/live-mba/strategy/?utm_source=paid-ads&utm_medium=facebook&utm_campaign=conversion+Broad+Targeting&coupon-code=LIVEMBA500RB&fbclid=IwAR1VGPKgcohdp2y6regmBqFK3f3kYYQnaFhgX8S9kbANuNODH_36TQX-uf8                                                                                                                                                                                                                                                                                              1\n",
       "https://www.kuncie.com/premium/microsoft-certification-program/?utm_source=paid-ads&utm_medium=tiktok&utm_campaign=kuncie-jago-mes-microsoft-office&lpt=1&ttclid=E.C.P.CtEBFeEeR4nx9SwVZnDRto19OV8XqcCV6LEPcvY_xlkxAP17-lgjwx2oMVkIMKdlbdG1G7J0cGRZWbfffuC01kx7XOnyg2vAUqpiE4ctAtJs-J6mfGxL2Wc5gMoWyU4D4GLUsZjZv7Mm4FKrC3mT7Ekm-AHnKedS-lCvpRVE_dUcWDQWQKNiOXKwCVSqcnvXX5CX0Umy0jukr7IsNCfJZsJr3S2_eHfRvcnQn0tmczz8SPf6qSeN-DYfHzRX3C0k_wiZR0GhCxm9BlHoxyZmKiv0JBwSBHYyLjAaIHbZhYba9Jz2PcmNcSCHovd75Fe5SK6iWvhuHbhAVHwB      1\n",
       "https://pt.slideshare.net/                                                                                                                                                                                                                                                                                                                                                                                                                                                                                                   1\n",
       "Name: page_referrer, Length: 9575, dtype: int64"
      ]
     },
     "execution_count": 431,
     "metadata": {},
     "output_type": "execute_result"
    }
   ],
   "source": [
    "df['page_referrer'].value_counts()"
   ]
  },
  {
   "cell_type": "code",
   "execution_count": 434,
   "id": "34739c82",
   "metadata": {},
   "outputs": [
    {
     "data": {
      "text/plain": [
       "https://lifestyle.haluan.co/                                    555\n",
       "https://www.kuncie.com/premium/my-account/                      533\n",
       "https://www.kuncie.com                                          513\n",
       "/premium/login/                                                 356\n",
       "https://www.kuncie.com/premium/mini-mba/                        350\n",
       "https://bahasa.newsbytesapp.com/                                342\n",
       "https://www.kilat.com/                                          311\n",
       "https://lm.facebook.com/                                        297\n",
       "https://www.kuncie.com/premium/login/?action=forgot-password    279\n",
       "https://linktr.ee/                                              264\n",
       "Name: page_referrer, dtype: int64"
      ]
     },
     "execution_count": 434,
     "metadata": {},
     "output_type": "execute_result"
    }
   ],
   "source": [
    "top10 = df['page_referrer'].value_counts().nlargest(10)\n",
    "top10"
   ]
  },
  {
   "cell_type": "code",
   "execution_count": null,
   "id": "f2139e0f",
   "metadata": {},
   "outputs": [],
   "source": [
    "df['kuncie_user_id'].value_counts()\n",
    "df['kuncie_user_id']"
   ]
  },
  {
   "cell_type": "code",
   "execution_count": null,
   "id": "c9357248",
   "metadata": {},
   "outputs": [],
   "source": [
    "web_daily_visits = df.groupby('date').count()['visitor_id']"
   ]
  },
  {
   "cell_type": "code",
   "execution_count": null,
   "id": "bb2046cc",
   "metadata": {},
   "outputs": [],
   "source": [
    "web_daily_visits"
   ]
  },
  {
   "cell_type": "code",
   "execution_count": 445,
   "id": "ae42f490",
   "metadata": {},
   "outputs": [
    {
     "data": {
      "image/png": "[encoded data removed]",
      "text/plain": [
       "<Figure size 640x480 with 1 Axes>"
      ]
     },
     "metadata": {},
     "output_type": "display_data"
    }
   ],
   "source": [
    "plt.plot(web_daily_visits.index, web_daily_visits.values)\n",
    "plt.title('Daily Visits Trend')\n",
    "plt.xlabel('Date')\n",
    "plt.ylabel('Visits')\n",
    "plt.xticks(rotation=45, ha='right')\n",
    "plt.show()"
   ]
  },
  {
   "cell_type": "code",
   "execution_count": null,
   "id": "3eb1773f",
   "metadata": {},
   "outputs": [],
   "source": []
  }
 ],
 "metadata": {
  "kernelspec": {
   "display_name": "Python 3 (ipykernel)",
   "language": "python",
   "name": "python3"
  },
  "language_info": {
   "codemirror_mode": {
    "name": "ipython",
    "version": 3
   },
   "file_extension": ".py",
   "mimetype": "text/x-python",
   "name": "python",
   "nbconvert_exporter": "python",
   "pygments_lexer": "ipython3",
   "version": "3.9.13"
  }
 },
 "nbformat": 4,
 "nbformat_minor": 5
}
